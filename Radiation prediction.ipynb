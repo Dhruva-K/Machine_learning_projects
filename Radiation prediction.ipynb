{
 "cells": [
  {
   "cell_type": "code",
   "execution_count": 2,
   "metadata": {},
   "outputs": [],
   "source": [
    "import pandas as pd\n",
    "import numpy as np\n",
    "import matplotlib.pyplot as plt\n",
    "import seaborn as sns\n",
    "from sklearn.linear_model import LinearRegression\n",
    "from sklearn.metrics import r2_score\n"
   ]
  },
  {
   "cell_type": "code",
   "execution_count": 7,
   "metadata": {},
   "outputs": [],
   "source": [
    "train= pd.read_csv(r\"C:\\Users\\dhruv\\Downloads\\ts.csv\")"
   ]
  },
  {
   "cell_type": "code",
   "execution_count": 125,
   "metadata": {},
   "outputs": [],
   "source": [
    "test=pd.read_csv(r\"C:\\Users\\dhruv\\Downloads\\test.csv\")"
   ]
  },
  {
   "cell_type": "markdown",
   "metadata": {},
   "source": [
    "# Solution wali file"
   ]
  },
  {
   "cell_type": "code",
   "execution_count": 126,
   "metadata": {},
   "outputs": [],
   "source": [
    "sol=pd.read_csv(r\"C:\\Users\\dhruv\\Downloads\\solution.csv\")"
   ]
  },
  {
   "cell_type": "code",
   "execution_count": 13,
   "metadata": {},
   "outputs": [
    {
     "data": {
      "text/html": [
       "<div>\n",
       "<style scoped>\n",
       "    .dataframe tbody tr th:only-of-type {\n",
       "        vertical-align: middle;\n",
       "    }\n",
       "\n",
       "    .dataframe tbody tr th {\n",
       "        vertical-align: top;\n",
       "    }\n",
       "\n",
       "    .dataframe thead th {\n",
       "        text-align: right;\n",
       "    }\n",
       "</style>\n",
       "<table border=\"1\" class=\"dataframe\">\n",
       "  <thead>\n",
       "    <tr style=\"text-align: right;\">\n",
       "      <th></th>\n",
       "      <th>UNIXTime</th>\n",
       "      <th>Data</th>\n",
       "      <th>Time</th>\n",
       "      <th>Temperature</th>\n",
       "      <th>Pressure</th>\n",
       "      <th>Humidity</th>\n",
       "      <th>WindDirection(Degrees)</th>\n",
       "      <th>Speed</th>\n",
       "      <th>TimeSunRise</th>\n",
       "      <th>TimeSunSet</th>\n",
       "      <th>Radiation</th>\n",
       "    </tr>\n",
       "  </thead>\n",
       "  <tbody>\n",
       "    <tr>\n",
       "      <th>0</th>\n",
       "      <td>1.475229e+09</td>\n",
       "      <td>9/29/2016 12:00:00 AM</td>\n",
       "      <td>23:55:26</td>\n",
       "      <td>48.0</td>\n",
       "      <td>30.46</td>\n",
       "      <td>66.0</td>\n",
       "      <td>177.39</td>\n",
       "      <td>5.438052</td>\n",
       "      <td>06:13:00</td>\n",
       "      <td>18:13:00</td>\n",
       "      <td>1.21</td>\n",
       "    </tr>\n",
       "    <tr>\n",
       "      <th>1</th>\n",
       "      <td>1.475229e+09</td>\n",
       "      <td>9/29/2016 12:00:00 AM</td>\n",
       "      <td>23:50:23</td>\n",
       "      <td>48.0</td>\n",
       "      <td>30.46</td>\n",
       "      <td>67.0</td>\n",
       "      <td>176.78</td>\n",
       "      <td>3.244512</td>\n",
       "      <td>06:13:00</td>\n",
       "      <td>18:13:00</td>\n",
       "      <td>1.21</td>\n",
       "    </tr>\n",
       "    <tr>\n",
       "      <th>2</th>\n",
       "      <td>1.475229e+09</td>\n",
       "      <td>9/29/2016 12:00:00 AM</td>\n",
       "      <td>23:45:26</td>\n",
       "      <td>48.0</td>\n",
       "      <td>30.46</td>\n",
       "      <td>60.0</td>\n",
       "      <td>158.75</td>\n",
       "      <td>3.330515</td>\n",
       "      <td>06:13:00</td>\n",
       "      <td>18:13:00</td>\n",
       "      <td>1.23</td>\n",
       "    </tr>\n",
       "    <tr>\n",
       "      <th>3</th>\n",
       "      <td>1.475228e+09</td>\n",
       "      <td>9/29/2016 12:00:00 AM</td>\n",
       "      <td>23:40:21</td>\n",
       "      <td>48.0</td>\n",
       "      <td>30.46</td>\n",
       "      <td>60.0</td>\n",
       "      <td>137.71</td>\n",
       "      <td>3.272141</td>\n",
       "      <td>06:13:00</td>\n",
       "      <td>18:13:00</td>\n",
       "      <td>1.21</td>\n",
       "    </tr>\n",
       "    <tr>\n",
       "      <th>4</th>\n",
       "      <td>1.475228e+09</td>\n",
       "      <td>9/29/2016 12:00:00 AM</td>\n",
       "      <td>23:35:24</td>\n",
       "      <td>48.0</td>\n",
       "      <td>30.46</td>\n",
       "      <td>66.0</td>\n",
       "      <td>104.95</td>\n",
       "      <td>NaN</td>\n",
       "      <td>06:13:00</td>\n",
       "      <td>18:13:00</td>\n",
       "      <td>1.17</td>\n",
       "    </tr>\n",
       "  </tbody>\n",
       "</table>\n",
       "</div>"
      ],
      "text/plain": [
       "       UNIXTime                   Data      Time  Temperature  Pressure  \\\n",
       "0  1.475229e+09  9/29/2016 12:00:00 AM  23:55:26         48.0     30.46   \n",
       "1  1.475229e+09  9/29/2016 12:00:00 AM  23:50:23         48.0     30.46   \n",
       "2  1.475229e+09  9/29/2016 12:00:00 AM  23:45:26         48.0     30.46   \n",
       "3  1.475228e+09  9/29/2016 12:00:00 AM  23:40:21         48.0     30.46   \n",
       "4  1.475228e+09  9/29/2016 12:00:00 AM  23:35:24         48.0     30.46   \n",
       "\n",
       "   Humidity  WindDirection(Degrees)     Speed TimeSunRise TimeSunSet  \\\n",
       "0      66.0                  177.39  5.438052    06:13:00   18:13:00   \n",
       "1      67.0                  176.78  3.244512    06:13:00   18:13:00   \n",
       "2      60.0                  158.75  3.330515    06:13:00   18:13:00   \n",
       "3      60.0                  137.71  3.272141    06:13:00   18:13:00   \n",
       "4      66.0                  104.95       NaN    06:13:00   18:13:00   \n",
       "\n",
       "   Radiation  \n",
       "0       1.21  \n",
       "1       1.21  \n",
       "2       1.23  \n",
       "3       1.21  \n",
       "4       1.17  "
      ]
     },
     "execution_count": 13,
     "metadata": {},
     "output_type": "execute_result"
    }
   ],
   "source": [
    "train.head()"
   ]
  },
  {
   "cell_type": "code",
   "execution_count": 127,
   "metadata": {},
   "outputs": [],
   "source": [
    "train=train.drop(columns=\"ID\")"
   ]
  },
  {
   "cell_type": "code",
   "execution_count": 128,
   "metadata": {},
   "outputs": [
    {
     "data": {
      "text/plain": [
       "UNIXTime                  27\n",
       "Data                      21\n",
       "Time                      10\n",
       "Temperature               10\n",
       "Pressure                  22\n",
       "Humidity                   9\n",
       "WindDirection(Degrees)    10\n",
       "Speed                     56\n",
       "TimeSunRise               19\n",
       "TimeSunSet                19\n",
       "Radiation                  7\n",
       "dtype: int64"
      ]
     },
     "execution_count": 128,
     "metadata": {},
     "output_type": "execute_result"
    }
   ],
   "source": [
    "train.isnull().sum()"
   ]
  },
  {
   "cell_type": "code",
   "execution_count": 129,
   "metadata": {},
   "outputs": [
    {
     "data": {
      "text/plain": [
       "ID                         0\n",
       "UNIXTime                  13\n",
       "Data                      12\n",
       "Time                       9\n",
       "Temperature               16\n",
       "Pressure                  20\n",
       "Humidity                  17\n",
       "WindDirection(Degrees)    10\n",
       "Speed                     31\n",
       "TimeSunRise                6\n",
       "TimeSunSet                 5\n",
       "dtype: int64"
      ]
     },
     "execution_count": 129,
     "metadata": {},
     "output_type": "execute_result"
    }
   ],
   "source": [
    "test.isnull().sum()"
   ]
  },
  {
   "cell_type": "code",
   "execution_count": 130,
   "metadata": {},
   "outputs": [],
   "source": [
    "train[\"UNIXTime\"].fillna(train[\"UNIXTime\"].mean(),inplace=True)"
   ]
  },
  {
   "cell_type": "code",
   "execution_count": 131,
   "metadata": {},
   "outputs": [],
   "source": [
    "test[\"UNIXTime\"].fillna(test[\"UNIXTime\"].mean(),inplace=True)"
   ]
  },
  {
   "cell_type": "markdown",
   "metadata": {},
   "source": [
    "# This datetime thing..straightaway picked up from the net"
   ]
  },
  {
   "cell_type": "code",
   "execution_count": 132,
   "metadata": {},
   "outputs": [
    {
     "data": {
      "text/html": [
       "<div>\n",
       "<style scoped>\n",
       "    .dataframe tbody tr th:only-of-type {\n",
       "        vertical-align: middle;\n",
       "    }\n",
       "\n",
       "    .dataframe tbody tr th {\n",
       "        vertical-align: top;\n",
       "    }\n",
       "\n",
       "    .dataframe thead th {\n",
       "        text-align: right;\n",
       "    }\n",
       "</style>\n",
       "<table border=\"1\" class=\"dataframe\">\n",
       "  <thead>\n",
       "    <tr style=\"text-align: right;\">\n",
       "      <th></th>\n",
       "      <th>UNIXTime</th>\n",
       "      <th>Data</th>\n",
       "      <th>Time</th>\n",
       "      <th>Temperature</th>\n",
       "      <th>Pressure</th>\n",
       "      <th>Humidity</th>\n",
       "      <th>WindDirection(Degrees)</th>\n",
       "      <th>Speed</th>\n",
       "      <th>TimeSunRise</th>\n",
       "      <th>TimeSunSet</th>\n",
       "      <th>Radiation</th>\n",
       "      <th>Time_conv</th>\n",
       "      <th>hour</th>\n",
       "      <th>month</th>\n",
       "      <th>year</th>\n",
       "      <th>total_time</th>\n",
       "    </tr>\n",
       "  </thead>\n",
       "  <tbody>\n",
       "    <tr>\n",
       "      <th>0</th>\n",
       "      <td>1.475229e+09</td>\n",
       "      <td>9/29/2016 12:00:00 AM</td>\n",
       "      <td>23:55:26</td>\n",
       "      <td>48.0</td>\n",
       "      <td>30.46</td>\n",
       "      <td>66.0</td>\n",
       "      <td>177.39</td>\n",
       "      <td>5.438052</td>\n",
       "      <td>06:13:00</td>\n",
       "      <td>18:13:00</td>\n",
       "      <td>1.21</td>\n",
       "      <td>1900-01-01 23:55:26</td>\n",
       "      <td>23.0</td>\n",
       "      <td>9</td>\n",
       "      <td>2016</td>\n",
       "      <td>12.0</td>\n",
       "    </tr>\n",
       "    <tr>\n",
       "      <th>1</th>\n",
       "      <td>1.475229e+09</td>\n",
       "      <td>9/29/2016 12:00:00 AM</td>\n",
       "      <td>23:50:23</td>\n",
       "      <td>48.0</td>\n",
       "      <td>30.46</td>\n",
       "      <td>67.0</td>\n",
       "      <td>176.78</td>\n",
       "      <td>3.244512</td>\n",
       "      <td>06:13:00</td>\n",
       "      <td>18:13:00</td>\n",
       "      <td>1.21</td>\n",
       "      <td>1900-01-01 23:50:23</td>\n",
       "      <td>23.0</td>\n",
       "      <td>9</td>\n",
       "      <td>2016</td>\n",
       "      <td>12.0</td>\n",
       "    </tr>\n",
       "    <tr>\n",
       "      <th>2</th>\n",
       "      <td>1.475229e+09</td>\n",
       "      <td>9/29/2016 12:00:00 AM</td>\n",
       "      <td>23:45:26</td>\n",
       "      <td>48.0</td>\n",
       "      <td>30.46</td>\n",
       "      <td>60.0</td>\n",
       "      <td>158.75</td>\n",
       "      <td>3.330515</td>\n",
       "      <td>06:13:00</td>\n",
       "      <td>18:13:00</td>\n",
       "      <td>1.23</td>\n",
       "      <td>1900-01-01 23:45:26</td>\n",
       "      <td>23.0</td>\n",
       "      <td>9</td>\n",
       "      <td>2016</td>\n",
       "      <td>12.0</td>\n",
       "    </tr>\n",
       "    <tr>\n",
       "      <th>3</th>\n",
       "      <td>1.475228e+09</td>\n",
       "      <td>9/29/2016 12:00:00 AM</td>\n",
       "      <td>23:40:21</td>\n",
       "      <td>48.0</td>\n",
       "      <td>30.46</td>\n",
       "      <td>60.0</td>\n",
       "      <td>137.71</td>\n",
       "      <td>3.272141</td>\n",
       "      <td>06:13:00</td>\n",
       "      <td>18:13:00</td>\n",
       "      <td>1.21</td>\n",
       "      <td>1900-01-01 23:40:21</td>\n",
       "      <td>23.0</td>\n",
       "      <td>9</td>\n",
       "      <td>2016</td>\n",
       "      <td>12.0</td>\n",
       "    </tr>\n",
       "    <tr>\n",
       "      <th>4</th>\n",
       "      <td>1.475228e+09</td>\n",
       "      <td>9/29/2016 12:00:00 AM</td>\n",
       "      <td>23:35:24</td>\n",
       "      <td>48.0</td>\n",
       "      <td>30.46</td>\n",
       "      <td>66.0</td>\n",
       "      <td>104.95</td>\n",
       "      <td>NaN</td>\n",
       "      <td>06:13:00</td>\n",
       "      <td>18:13:00</td>\n",
       "      <td>1.17</td>\n",
       "      <td>1900-01-01 23:35:24</td>\n",
       "      <td>23.0</td>\n",
       "      <td>9</td>\n",
       "      <td>2016</td>\n",
       "      <td>12.0</td>\n",
       "    </tr>\n",
       "  </tbody>\n",
       "</table>\n",
       "</div>"
      ],
      "text/plain": [
       "       UNIXTime                   Data      Time  Temperature  Pressure  \\\n",
       "0  1.475229e+09  9/29/2016 12:00:00 AM  23:55:26         48.0     30.46   \n",
       "1  1.475229e+09  9/29/2016 12:00:00 AM  23:50:23         48.0     30.46   \n",
       "2  1.475229e+09  9/29/2016 12:00:00 AM  23:45:26         48.0     30.46   \n",
       "3  1.475228e+09  9/29/2016 12:00:00 AM  23:40:21         48.0     30.46   \n",
       "4  1.475228e+09  9/29/2016 12:00:00 AM  23:35:24         48.0     30.46   \n",
       "\n",
       "   Humidity  WindDirection(Degrees)     Speed TimeSunRise TimeSunSet  \\\n",
       "0      66.0                  177.39  5.438052    06:13:00   18:13:00   \n",
       "1      67.0                  176.78  3.244512    06:13:00   18:13:00   \n",
       "2      60.0                  158.75  3.330515    06:13:00   18:13:00   \n",
       "3      60.0                  137.71  3.272141    06:13:00   18:13:00   \n",
       "4      66.0                  104.95       NaN    06:13:00   18:13:00   \n",
       "\n",
       "   Radiation           Time_conv  hour  month  year  total_time  \n",
       "0       1.21 1900-01-01 23:55:26  23.0      9  2016        12.0  \n",
       "1       1.21 1900-01-01 23:50:23  23.0      9  2016        12.0  \n",
       "2       1.23 1900-01-01 23:45:26  23.0      9  2016        12.0  \n",
       "3       1.21 1900-01-01 23:40:21  23.0      9  2016        12.0  \n",
       "4       1.17 1900-01-01 23:35:24  23.0      9  2016        12.0  "
      ]
     },
     "execution_count": 132,
     "metadata": {},
     "output_type": "execute_result"
    }
   ],
   "source": [
    "train['Time_conv'] =  pd.to_datetime(train['Time'], format='%H:%M:%S')\n",
    "train['hour'] = pd.to_datetime(train['Time_conv'], format='%H:%M:%S').dt.hour\n",
    "\n",
    "#Add column 'month'\n",
    "train['month'] = pd.to_datetime(train['UNIXTime'].astype(int), unit='s').dt.month\n",
    "\n",
    "#Add column 'year'\n",
    "train['year'] = pd.to_datetime(train['UNIXTime'].astype(int), unit='s').dt.year\n",
    "\n",
    "#Duration of Day\n",
    "train['total_time'] = pd.to_datetime(train['TimeSunSet'], format='%H:%M:%S').dt.hour - pd.to_datetime(train['TimeSunRise'], format='%H:%M:%S').dt.hour\n",
    "train.head()"
   ]
  },
  {
   "cell_type": "code",
   "execution_count": 133,
   "metadata": {},
   "outputs": [
    {
     "data": {
      "text/html": [
       "<div>\n",
       "<style scoped>\n",
       "    .dataframe tbody tr th:only-of-type {\n",
       "        vertical-align: middle;\n",
       "    }\n",
       "\n",
       "    .dataframe tbody tr th {\n",
       "        vertical-align: top;\n",
       "    }\n",
       "\n",
       "    .dataframe thead th {\n",
       "        text-align: right;\n",
       "    }\n",
       "</style>\n",
       "<table border=\"1\" class=\"dataframe\">\n",
       "  <thead>\n",
       "    <tr style=\"text-align: right;\">\n",
       "      <th></th>\n",
       "      <th>ID</th>\n",
       "      <th>UNIXTime</th>\n",
       "      <th>Data</th>\n",
       "      <th>Time</th>\n",
       "      <th>Temperature</th>\n",
       "      <th>Pressure</th>\n",
       "      <th>Humidity</th>\n",
       "      <th>WindDirection(Degrees)</th>\n",
       "      <th>Speed</th>\n",
       "      <th>TimeSunRise</th>\n",
       "      <th>TimeSunSet</th>\n",
       "      <th>Time_conv</th>\n",
       "      <th>hour</th>\n",
       "      <th>month</th>\n",
       "      <th>year</th>\n",
       "      <th>total_time</th>\n",
       "    </tr>\n",
       "  </thead>\n",
       "  <tbody>\n",
       "    <tr>\n",
       "      <th>0</th>\n",
       "      <td>19613</td>\n",
       "      <td>1.479469e+09</td>\n",
       "      <td>11/18/2016 12:00:00 AM</td>\n",
       "      <td>01:35:17</td>\n",
       "      <td>48.0</td>\n",
       "      <td>30.43</td>\n",
       "      <td>28.0</td>\n",
       "      <td>158.35</td>\n",
       "      <td>8.006473</td>\n",
       "      <td>06:33:00</td>\n",
       "      <td>17:43:00</td>\n",
       "      <td>1900-01-01 01:35:17</td>\n",
       "      <td>1.0</td>\n",
       "      <td>11</td>\n",
       "      <td>2016</td>\n",
       "      <td>11.0</td>\n",
       "    </tr>\n",
       "    <tr>\n",
       "      <th>1</th>\n",
       "      <td>19614</td>\n",
       "      <td>1.479469e+09</td>\n",
       "      <td>11/18/2016 12:00:00 AM</td>\n",
       "      <td>01:30:18</td>\n",
       "      <td>48.0</td>\n",
       "      <td>30.43</td>\n",
       "      <td>30.0</td>\n",
       "      <td>191.27</td>\n",
       "      <td>8.830502</td>\n",
       "      <td>06:33:00</td>\n",
       "      <td>17:43:00</td>\n",
       "      <td>1900-01-01 01:30:18</td>\n",
       "      <td>1.0</td>\n",
       "      <td>11</td>\n",
       "      <td>2016</td>\n",
       "      <td>11.0</td>\n",
       "    </tr>\n",
       "    <tr>\n",
       "      <th>2</th>\n",
       "      <td>19615</td>\n",
       "      <td>1.479468e+09</td>\n",
       "      <td>11/18/2016 12:00:00 AM</td>\n",
       "      <td>01:25:20</td>\n",
       "      <td>48.0</td>\n",
       "      <td>30.43</td>\n",
       "      <td>32.0</td>\n",
       "      <td>191.37</td>\n",
       "      <td>7.898511</td>\n",
       "      <td>06:33:00</td>\n",
       "      <td>17:43:00</td>\n",
       "      <td>1900-01-01 01:25:20</td>\n",
       "      <td>1.0</td>\n",
       "      <td>11</td>\n",
       "      <td>2016</td>\n",
       "      <td>11.0</td>\n",
       "    </tr>\n",
       "    <tr>\n",
       "      <th>3</th>\n",
       "      <td>19616</td>\n",
       "      <td>1.479468e+09</td>\n",
       "      <td>11/18/2016 12:00:00 AM</td>\n",
       "      <td>01:20:21</td>\n",
       "      <td>48.0</td>\n",
       "      <td>30.44</td>\n",
       "      <td>31.0</td>\n",
       "      <td>175.43</td>\n",
       "      <td>5.737213</td>\n",
       "      <td>06:33:00</td>\n",
       "      <td>17:43:00</td>\n",
       "      <td>1900-01-01 01:20:21</td>\n",
       "      <td>1.0</td>\n",
       "      <td>11</td>\n",
       "      <td>2016</td>\n",
       "      <td>11.0</td>\n",
       "    </tr>\n",
       "    <tr>\n",
       "      <th>4</th>\n",
       "      <td>19617</td>\n",
       "      <td>1.479468e+09</td>\n",
       "      <td>11/18/2016 12:00:00 AM</td>\n",
       "      <td>01:15:19</td>\n",
       "      <td>48.0</td>\n",
       "      <td>30.44</td>\n",
       "      <td>30.0</td>\n",
       "      <td>161.55</td>\n",
       "      <td>6.761591</td>\n",
       "      <td>06:33:00</td>\n",
       "      <td>17:43:00</td>\n",
       "      <td>1900-01-01 01:15:19</td>\n",
       "      <td>1.0</td>\n",
       "      <td>11</td>\n",
       "      <td>2016</td>\n",
       "      <td>11.0</td>\n",
       "    </tr>\n",
       "  </tbody>\n",
       "</table>\n",
       "</div>"
      ],
      "text/plain": [
       "      ID      UNIXTime                    Data      Time  Temperature  \\\n",
       "0  19613  1.479469e+09  11/18/2016 12:00:00 AM  01:35:17         48.0   \n",
       "1  19614  1.479469e+09  11/18/2016 12:00:00 AM  01:30:18         48.0   \n",
       "2  19615  1.479468e+09  11/18/2016 12:00:00 AM  01:25:20         48.0   \n",
       "3  19616  1.479468e+09  11/18/2016 12:00:00 AM  01:20:21         48.0   \n",
       "4  19617  1.479468e+09  11/18/2016 12:00:00 AM  01:15:19         48.0   \n",
       "\n",
       "   Pressure  Humidity  WindDirection(Degrees)     Speed TimeSunRise  \\\n",
       "0     30.43      28.0                  158.35  8.006473    06:33:00   \n",
       "1     30.43      30.0                  191.27  8.830502    06:33:00   \n",
       "2     30.43      32.0                  191.37  7.898511    06:33:00   \n",
       "3     30.44      31.0                  175.43  5.737213    06:33:00   \n",
       "4     30.44      30.0                  161.55  6.761591    06:33:00   \n",
       "\n",
       "  TimeSunSet           Time_conv  hour  month  year  total_time  \n",
       "0   17:43:00 1900-01-01 01:35:17   1.0     11  2016        11.0  \n",
       "1   17:43:00 1900-01-01 01:30:18   1.0     11  2016        11.0  \n",
       "2   17:43:00 1900-01-01 01:25:20   1.0     11  2016        11.0  \n",
       "3   17:43:00 1900-01-01 01:20:21   1.0     11  2016        11.0  \n",
       "4   17:43:00 1900-01-01 01:15:19   1.0     11  2016        11.0  "
      ]
     },
     "execution_count": 133,
     "metadata": {},
     "output_type": "execute_result"
    }
   ],
   "source": [
    "test['Time_conv'] =  pd.to_datetime(test['Time'], format='%H:%M:%S')\n",
    "test['hour'] = pd.to_datetime(test['Time_conv'], format='%H:%M:%S').dt.hour\n",
    "\n",
    "#Add column 'month'\n",
    "test['month'] = pd.to_datetime(test['UNIXTime'].astype(int), unit='s').dt.month\n",
    "\n",
    "#Add column 'year'\n",
    "test['year'] = pd.to_datetime(test['UNIXTime'].astype(int), unit='s').dt.year\n",
    "\n",
    "#Duration of Day\n",
    "test['total_time'] = pd.to_datetime(test['TimeSunSet'], format='%H:%M:%S').dt.hour - pd.to_datetime(test['TimeSunRise'], format='%H:%M:%S').dt.hour\n",
    "test.head()"
   ]
  },
  {
   "cell_type": "code",
   "execution_count": 134,
   "metadata": {},
   "outputs": [
    {
     "data": {
      "text/html": [
       "<div>\n",
       "<style scoped>\n",
       "    .dataframe tbody tr th:only-of-type {\n",
       "        vertical-align: middle;\n",
       "    }\n",
       "\n",
       "    .dataframe tbody tr th {\n",
       "        vertical-align: top;\n",
       "    }\n",
       "\n",
       "    .dataframe thead th {\n",
       "        text-align: right;\n",
       "    }\n",
       "</style>\n",
       "<table border=\"1\" class=\"dataframe\">\n",
       "  <thead>\n",
       "    <tr style=\"text-align: right;\">\n",
       "      <th></th>\n",
       "      <th>UNIXTime</th>\n",
       "      <th>Temperature</th>\n",
       "      <th>Pressure</th>\n",
       "      <th>Humidity</th>\n",
       "      <th>WindDirection(Degrees)</th>\n",
       "      <th>Speed</th>\n",
       "      <th>Radiation</th>\n",
       "      <th>hour</th>\n",
       "      <th>month</th>\n",
       "      <th>year</th>\n",
       "      <th>total_time</th>\n",
       "    </tr>\n",
       "  </thead>\n",
       "  <tbody>\n",
       "    <tr>\n",
       "      <th>0</th>\n",
       "      <td>1.475229e+09</td>\n",
       "      <td>48.0</td>\n",
       "      <td>30.46</td>\n",
       "      <td>66.0</td>\n",
       "      <td>177.39</td>\n",
       "      <td>5.438052</td>\n",
       "      <td>1.21</td>\n",
       "      <td>23.0</td>\n",
       "      <td>9</td>\n",
       "      <td>2016</td>\n",
       "      <td>12.0</td>\n",
       "    </tr>\n",
       "    <tr>\n",
       "      <th>1</th>\n",
       "      <td>1.475229e+09</td>\n",
       "      <td>48.0</td>\n",
       "      <td>30.46</td>\n",
       "      <td>67.0</td>\n",
       "      <td>176.78</td>\n",
       "      <td>3.244512</td>\n",
       "      <td>1.21</td>\n",
       "      <td>23.0</td>\n",
       "      <td>9</td>\n",
       "      <td>2016</td>\n",
       "      <td>12.0</td>\n",
       "    </tr>\n",
       "    <tr>\n",
       "      <th>2</th>\n",
       "      <td>1.475229e+09</td>\n",
       "      <td>48.0</td>\n",
       "      <td>30.46</td>\n",
       "      <td>60.0</td>\n",
       "      <td>158.75</td>\n",
       "      <td>3.330515</td>\n",
       "      <td>1.23</td>\n",
       "      <td>23.0</td>\n",
       "      <td>9</td>\n",
       "      <td>2016</td>\n",
       "      <td>12.0</td>\n",
       "    </tr>\n",
       "    <tr>\n",
       "      <th>3</th>\n",
       "      <td>1.475228e+09</td>\n",
       "      <td>48.0</td>\n",
       "      <td>30.46</td>\n",
       "      <td>60.0</td>\n",
       "      <td>137.71</td>\n",
       "      <td>3.272141</td>\n",
       "      <td>1.21</td>\n",
       "      <td>23.0</td>\n",
       "      <td>9</td>\n",
       "      <td>2016</td>\n",
       "      <td>12.0</td>\n",
       "    </tr>\n",
       "    <tr>\n",
       "      <th>4</th>\n",
       "      <td>1.475228e+09</td>\n",
       "      <td>48.0</td>\n",
       "      <td>30.46</td>\n",
       "      <td>66.0</td>\n",
       "      <td>104.95</td>\n",
       "      <td>NaN</td>\n",
       "      <td>1.17</td>\n",
       "      <td>23.0</td>\n",
       "      <td>9</td>\n",
       "      <td>2016</td>\n",
       "      <td>12.0</td>\n",
       "    </tr>\n",
       "  </tbody>\n",
       "</table>\n",
       "</div>"
      ],
      "text/plain": [
       "       UNIXTime  Temperature  Pressure  Humidity  WindDirection(Degrees)  \\\n",
       "0  1.475229e+09         48.0     30.46      66.0                  177.39   \n",
       "1  1.475229e+09         48.0     30.46      67.0                  176.78   \n",
       "2  1.475229e+09         48.0     30.46      60.0                  158.75   \n",
       "3  1.475228e+09         48.0     30.46      60.0                  137.71   \n",
       "4  1.475228e+09         48.0     30.46      66.0                  104.95   \n",
       "\n",
       "      Speed  Radiation  hour  month  year  total_time  \n",
       "0  5.438052       1.21  23.0      9  2016        12.0  \n",
       "1  3.244512       1.21  23.0      9  2016        12.0  \n",
       "2  3.330515       1.23  23.0      9  2016        12.0  \n",
       "3  3.272141       1.21  23.0      9  2016        12.0  \n",
       "4       NaN       1.17  23.0      9  2016        12.0  "
      ]
     },
     "execution_count": 134,
     "metadata": {},
     "output_type": "execute_result"
    }
   ],
   "source": [
    "train=train.drop(['Data', 'Time', 'TimeSunRise', 'TimeSunSet','Time_conv',],axis=1)\n",
    "train.head()"
   ]
  },
  {
   "cell_type": "code",
   "execution_count": 135,
   "metadata": {},
   "outputs": [
    {
     "data": {
      "text/html": [
       "<div>\n",
       "<style scoped>\n",
       "    .dataframe tbody tr th:only-of-type {\n",
       "        vertical-align: middle;\n",
       "    }\n",
       "\n",
       "    .dataframe tbody tr th {\n",
       "        vertical-align: top;\n",
       "    }\n",
       "\n",
       "    .dataframe thead th {\n",
       "        text-align: right;\n",
       "    }\n",
       "</style>\n",
       "<table border=\"1\" class=\"dataframe\">\n",
       "  <thead>\n",
       "    <tr style=\"text-align: right;\">\n",
       "      <th></th>\n",
       "      <th>ID</th>\n",
       "      <th>UNIXTime</th>\n",
       "      <th>Temperature</th>\n",
       "      <th>Pressure</th>\n",
       "      <th>Humidity</th>\n",
       "      <th>WindDirection(Degrees)</th>\n",
       "      <th>Speed</th>\n",
       "      <th>hour</th>\n",
       "      <th>month</th>\n",
       "      <th>year</th>\n",
       "      <th>total_time</th>\n",
       "    </tr>\n",
       "  </thead>\n",
       "  <tbody>\n",
       "    <tr>\n",
       "      <th>0</th>\n",
       "      <td>19613</td>\n",
       "      <td>1.479469e+09</td>\n",
       "      <td>48.0</td>\n",
       "      <td>30.43</td>\n",
       "      <td>28.0</td>\n",
       "      <td>158.35</td>\n",
       "      <td>8.006473</td>\n",
       "      <td>1.0</td>\n",
       "      <td>11</td>\n",
       "      <td>2016</td>\n",
       "      <td>11.0</td>\n",
       "    </tr>\n",
       "    <tr>\n",
       "      <th>1</th>\n",
       "      <td>19614</td>\n",
       "      <td>1.479469e+09</td>\n",
       "      <td>48.0</td>\n",
       "      <td>30.43</td>\n",
       "      <td>30.0</td>\n",
       "      <td>191.27</td>\n",
       "      <td>8.830502</td>\n",
       "      <td>1.0</td>\n",
       "      <td>11</td>\n",
       "      <td>2016</td>\n",
       "      <td>11.0</td>\n",
       "    </tr>\n",
       "    <tr>\n",
       "      <th>2</th>\n",
       "      <td>19615</td>\n",
       "      <td>1.479468e+09</td>\n",
       "      <td>48.0</td>\n",
       "      <td>30.43</td>\n",
       "      <td>32.0</td>\n",
       "      <td>191.37</td>\n",
       "      <td>7.898511</td>\n",
       "      <td>1.0</td>\n",
       "      <td>11</td>\n",
       "      <td>2016</td>\n",
       "      <td>11.0</td>\n",
       "    </tr>\n",
       "    <tr>\n",
       "      <th>3</th>\n",
       "      <td>19616</td>\n",
       "      <td>1.479468e+09</td>\n",
       "      <td>48.0</td>\n",
       "      <td>30.44</td>\n",
       "      <td>31.0</td>\n",
       "      <td>175.43</td>\n",
       "      <td>5.737213</td>\n",
       "      <td>1.0</td>\n",
       "      <td>11</td>\n",
       "      <td>2016</td>\n",
       "      <td>11.0</td>\n",
       "    </tr>\n",
       "    <tr>\n",
       "      <th>4</th>\n",
       "      <td>19617</td>\n",
       "      <td>1.479468e+09</td>\n",
       "      <td>48.0</td>\n",
       "      <td>30.44</td>\n",
       "      <td>30.0</td>\n",
       "      <td>161.55</td>\n",
       "      <td>6.761591</td>\n",
       "      <td>1.0</td>\n",
       "      <td>11</td>\n",
       "      <td>2016</td>\n",
       "      <td>11.0</td>\n",
       "    </tr>\n",
       "  </tbody>\n",
       "</table>\n",
       "</div>"
      ],
      "text/plain": [
       "      ID      UNIXTime  Temperature  Pressure  Humidity  \\\n",
       "0  19613  1.479469e+09         48.0     30.43      28.0   \n",
       "1  19614  1.479469e+09         48.0     30.43      30.0   \n",
       "2  19615  1.479468e+09         48.0     30.43      32.0   \n",
       "3  19616  1.479468e+09         48.0     30.44      31.0   \n",
       "4  19617  1.479468e+09         48.0     30.44      30.0   \n",
       "\n",
       "   WindDirection(Degrees)     Speed  hour  month  year  total_time  \n",
       "0                  158.35  8.006473   1.0     11  2016        11.0  \n",
       "1                  191.27  8.830502   1.0     11  2016        11.0  \n",
       "2                  191.37  7.898511   1.0     11  2016        11.0  \n",
       "3                  175.43  5.737213   1.0     11  2016        11.0  \n",
       "4                  161.55  6.761591   1.0     11  2016        11.0  "
      ]
     },
     "execution_count": 135,
     "metadata": {},
     "output_type": "execute_result"
    }
   ],
   "source": [
    "test=test.drop(['Data', 'Time', 'TimeSunRise', 'TimeSunSet','Time_conv',],axis=1)\n",
    "test.head()"
   ]
  },
  {
   "cell_type": "code",
   "execution_count": 136,
   "metadata": {},
   "outputs": [],
   "source": [
    "train=train.drop([\"UNIXTime\"],axis=1)"
   ]
  },
  {
   "cell_type": "code",
   "execution_count": 137,
   "metadata": {},
   "outputs": [],
   "source": [
    "test=test.drop([\"UNIXTime\"],axis=1)"
   ]
  },
  {
   "cell_type": "markdown",
   "metadata": {},
   "source": [
    "# Filling NAN Values"
   ]
  },
  {
   "cell_type": "code",
   "execution_count": 139,
   "metadata": {},
   "outputs": [
    {
     "data": {
      "text/plain": [
       "Temperature               10\n",
       "Pressure                  22\n",
       "Humidity                   9\n",
       "WindDirection(Degrees)    10\n",
       "Speed                     56\n",
       "Radiation                  7\n",
       "hour                      10\n",
       "month                      0\n",
       "year                       0\n",
       "total_time                38\n",
       "dtype: int64"
      ]
     },
     "execution_count": 139,
     "metadata": {},
     "output_type": "execute_result"
    }
   ],
   "source": [
    "train.isnull().sum()"
   ]
  },
  {
   "cell_type": "code",
   "execution_count": 140,
   "metadata": {},
   "outputs": [
    {
     "data": {
      "text/plain": [
       "Index(['Temperature', 'Pressure', 'Humidity', 'WindDirection(Degrees)',\n",
       "       'Speed', 'Radiation', 'hour', 'month', 'year', 'total_time'],\n",
       "      dtype='object')"
      ]
     },
     "execution_count": 140,
     "metadata": {},
     "output_type": "execute_result"
    }
   ],
   "source": [
    "train.columns"
   ]
  },
  {
   "cell_type": "code",
   "execution_count": 141,
   "metadata": {},
   "outputs": [],
   "source": [
    "cols=[\"Temperature\",\"Humidity\",\"Radiation\",\"hour\",\"total_time\"]\n",
    "for i in cols:\n",
    "    train[i].fillna(train[i].mode()[0],inplace=True)\n",
    "  "
   ]
  },
  {
   "cell_type": "code",
   "execution_count": 142,
   "metadata": {},
   "outputs": [],
   "source": [
    "cols=[\"Temperature\",\"Humidity\",\"hour\",\"total_time\"]\n",
    "for i in cols:\n",
    "    test[i].fillna(test[i].mode()[0],inplace=True)"
   ]
  },
  {
   "cell_type": "code",
   "execution_count": 143,
   "metadata": {},
   "outputs": [],
   "source": [
    "col=['Pressure','WindDirection(Degrees)','Speed']\n",
    "for i in col:\n",
    "    train[i].fillna(train[i].mean(),inplace=True)\n",
    "    test[i].fillna(test[i].mean(),inplace=True)"
   ]
  },
  {
   "cell_type": "code",
   "execution_count": 144,
   "metadata": {},
   "outputs": [
    {
     "data": {
      "text/plain": [
       "Temperature               0\n",
       "Pressure                  0\n",
       "Humidity                  0\n",
       "WindDirection(Degrees)    0\n",
       "Speed                     0\n",
       "Radiation                 0\n",
       "hour                      0\n",
       "month                     0\n",
       "year                      0\n",
       "total_time                0\n",
       "dtype: int64"
      ]
     },
     "execution_count": 144,
     "metadata": {},
     "output_type": "execute_result"
    }
   ],
   "source": [
    "train.isnull().sum()"
   ]
  },
  {
   "cell_type": "code",
   "execution_count": 145,
   "metadata": {},
   "outputs": [],
   "source": [
    "train=train.drop([\"year\"],axis=1)\n"
   ]
  },
  {
   "cell_type": "code",
   "execution_count": 146,
   "metadata": {},
   "outputs": [],
   "source": [
    "test=test.drop([\"year\"],axis=1)"
   ]
  },
  {
   "cell_type": "code",
   "execution_count": 147,
   "metadata": {},
   "outputs": [],
   "source": [
    "train=train[['Temperature', 'Pressure', 'Humidity', 'WindDirection(Degrees)','Speed',  'hour', 'month', 'total_time','Radiation']]"
   ]
  },
  {
   "cell_type": "code",
   "execution_count": 49,
   "metadata": {},
   "outputs": [
    {
     "data": {
      "text/plain": [
       "<matplotlib.axes._subplots.AxesSubplot at 0x1e18dcb0448>"
      ]
     },
     "execution_count": 49,
     "metadata": {},
     "output_type": "execute_result"
    },
    {
     "data": {
      "image/png": "[encoded data removed]",
      "text/plain": [
       "<Figure size 1080x864 with 2 Axes>"
      ]
     },
     "metadata": {
      "needs_background": "light"
     },
     "output_type": "display_data"
    }
   ],
   "source": [
    "plt.subplots(figsize=(15,12))\n",
    "sns.heatmap(train.corr(),annot=True, cmap=\"YlGnBu\")"
   ]
  },
  {
   "cell_type": "markdown",
   "metadata": {},
   "source": [
    "### Temperature has a high correlation w radiation"
   ]
  },
  {
   "cell_type": "markdown",
   "metadata": {},
   "source": [
    "# Skew of target variable"
   ]
  },
  {
   "cell_type": "code",
   "execution_count": 50,
   "metadata": {},
   "outputs": [
    {
     "data": {
      "text/plain": [
       "Text(0.5, 1.0, 'Radiation')"
      ]
     },
     "execution_count": 50,
     "metadata": {},
     "output_type": "execute_result"
    },
    {
     "data": {
      "image/png": "[encoded data removed]",
      "text/plain": [
       "<Figure size 864x288 with 1 Axes>"
      ]
     },
     "metadata": {
      "needs_background": "light"
     },
     "output_type": "display_data"
    }
   ],
   "source": [
    "f= plt.figure(figsize=(12,4))\n",
    "\n",
    "ax=f.add_subplot(111)\n",
    "sns.distplot(train[\"Radiation\"],bins=50,color='r',ax=ax)\n",
    "ax.set_title('Radiation')\n"
   ]
  },
  {
   "cell_type": "markdown",
   "metadata": {},
   "source": [
    "# Standardizing"
   ]
  },
  {
   "cell_type": "code",
   "execution_count": 148,
   "metadata": {},
   "outputs": [
    {
     "data": {
      "text/html": [
       "<div>\n",
       "<style scoped>\n",
       "    .dataframe tbody tr th:only-of-type {\n",
       "        vertical-align: middle;\n",
       "    }\n",
       "\n",
       "    .dataframe tbody tr th {\n",
       "        vertical-align: top;\n",
       "    }\n",
       "\n",
       "    .dataframe thead th {\n",
       "        text-align: right;\n",
       "    }\n",
       "</style>\n",
       "<table border=\"1\" class=\"dataframe\">\n",
       "  <thead>\n",
       "    <tr style=\"text-align: right;\">\n",
       "      <th></th>\n",
       "      <th>Temperature</th>\n",
       "      <th>Pressure</th>\n",
       "      <th>Humidity</th>\n",
       "      <th>WindDirection(Degrees)</th>\n",
       "      <th>Speed</th>\n",
       "      <th>hour</th>\n",
       "      <th>month</th>\n",
       "      <th>total_time</th>\n",
       "      <th>Radiation</th>\n",
       "    </tr>\n",
       "  </thead>\n",
       "  <tbody>\n",
       "    <tr>\n",
       "      <th>0</th>\n",
       "      <td>48.0</td>\n",
       "      <td>30.46</td>\n",
       "      <td>66.0</td>\n",
       "      <td>177.39</td>\n",
       "      <td>5.438052</td>\n",
       "      <td>23.0</td>\n",
       "      <td>9</td>\n",
       "      <td>12.0</td>\n",
       "      <td>-0.677882</td>\n",
       "    </tr>\n",
       "    <tr>\n",
       "      <th>1</th>\n",
       "      <td>48.0</td>\n",
       "      <td>30.46</td>\n",
       "      <td>67.0</td>\n",
       "      <td>176.78</td>\n",
       "      <td>3.244512</td>\n",
       "      <td>23.0</td>\n",
       "      <td>9</td>\n",
       "      <td>12.0</td>\n",
       "      <td>-0.677882</td>\n",
       "    </tr>\n",
       "    <tr>\n",
       "      <th>2</th>\n",
       "      <td>48.0</td>\n",
       "      <td>30.46</td>\n",
       "      <td>60.0</td>\n",
       "      <td>158.75</td>\n",
       "      <td>3.330515</td>\n",
       "      <td>23.0</td>\n",
       "      <td>9</td>\n",
       "      <td>12.0</td>\n",
       "      <td>-0.677822</td>\n",
       "    </tr>\n",
       "    <tr>\n",
       "      <th>3</th>\n",
       "      <td>48.0</td>\n",
       "      <td>30.46</td>\n",
       "      <td>60.0</td>\n",
       "      <td>137.71</td>\n",
       "      <td>3.272141</td>\n",
       "      <td>23.0</td>\n",
       "      <td>9</td>\n",
       "      <td>12.0</td>\n",
       "      <td>-0.677882</td>\n",
       "    </tr>\n",
       "    <tr>\n",
       "      <th>4</th>\n",
       "      <td>48.0</td>\n",
       "      <td>30.46</td>\n",
       "      <td>66.0</td>\n",
       "      <td>104.95</td>\n",
       "      <td>5.949330</td>\n",
       "      <td>23.0</td>\n",
       "      <td>9</td>\n",
       "      <td>12.0</td>\n",
       "      <td>-0.678002</td>\n",
       "    </tr>\n",
       "  </tbody>\n",
       "</table>\n",
       "</div>"
      ],
      "text/plain": [
       "   Temperature  Pressure  Humidity  WindDirection(Degrees)     Speed  hour  \\\n",
       "0         48.0     30.46      66.0                  177.39  5.438052  23.0   \n",
       "1         48.0     30.46      67.0                  176.78  3.244512  23.0   \n",
       "2         48.0     30.46      60.0                  158.75  3.330515  23.0   \n",
       "3         48.0     30.46      60.0                  137.71  3.272141  23.0   \n",
       "4         48.0     30.46      66.0                  104.95  5.949330  23.0   \n",
       "\n",
       "   month  total_time  Radiation  \n",
       "0      9        12.0  -0.677882  \n",
       "1      9        12.0  -0.677882  \n",
       "2      9        12.0  -0.677822  \n",
       "3      9        12.0  -0.677882  \n",
       "4      9        12.0  -0.678002  "
      ]
     },
     "execution_count": 148,
     "metadata": {},
     "output_type": "execute_result"
    }
   ],
   "source": [
    "from sklearn.preprocessing import StandardScaler\n",
    "r_scaler= StandardScaler()\n",
    "train[\"Radiation\"]=r_scaler.fit_transform(train[[\"Radiation\"]])\n",
    "\n",
    "train.head()"
   ]
  },
  {
   "cell_type": "markdown",
   "metadata": {},
   "source": [
    "# Score using all variables"
   ]
  },
  {
   "cell_type": "code",
   "execution_count": 149,
   "metadata": {},
   "outputs": [],
   "source": [
    "from sklearn.model_selection import train_test_split\n"
   ]
  },
  {
   "cell_type": "code",
   "execution_count": 182,
   "metadata": {},
   "outputs": [],
   "source": [
    "x=train.drop([\"Radiation\"],axis=1)\n",
    "y=train[\"Radiation\"]\n",
    "x_train,x_test,y_train,y_test=train_test_split(x,y,test_size=0.3,random_state=1)"
   ]
  },
  {
   "cell_type": "code",
   "execution_count": 183,
   "metadata": {},
   "outputs": [
    {
     "name": "stdout",
     "output_type": "stream",
     "text": [
      "0.6162149927312734\n"
     ]
    }
   ],
   "source": [
    "x_train,x_test,y_train,y_test=train_test_split(x,y,test_size=0.3,random_state=1)\n",
    "lr=LinearRegression()\n",
    "lr.fit(x_train,y_train)\n",
    "y_pred=lr.predict(x_test)\n",
    "result_lr=r2_score(y_test,y_pred)\n",
    "print(result_lr)"
   ]
  },
  {
   "cell_type": "markdown",
   "metadata": {},
   "source": [
    "# Finding important features"
   ]
  },
  {
   "cell_type": "code",
   "execution_count": 151,
   "metadata": {},
   "outputs": [],
   "source": [
    "from sklearn.feature_selection import SelectKBest\n",
    "from sklearn.feature_selection import f_regression\n",
    "# configure to select all features\n",
    "fs = SelectKBest(score_func=f_regression, k='all')\n",
    "# learn relationship from training data\n",
    "fs.fit(x_train, y_train)\n",
    "# transform train input data\n",
    "X_train_fs = fs.transform(x_train)\n",
    "\n"
   ]
  },
  {
   "cell_type": "code",
   "execution_count": 152,
   "metadata": {},
   "outputs": [
    {
     "name": "stdout",
     "output_type": "stream",
     "text": [
      "Feature 0: 15237.047384\n",
      "Feature 1: 95.033514\n",
      "Feature 2: 1010.372248\n",
      "Feature 3: 972.495347\n",
      "Feature 4: 102.087652\n",
      "Feature 5: 0.786466\n",
      "Feature 6: 5.403727\n",
      "Feature 7: 0.231619\n"
     ]
    },
    {
     "data": {
      "image/png": "[encoded data removed]",
      "text/plain": [
       "<Figure size 432x288 with 1 Axes>"
      ]
     },
     "metadata": {
      "needs_background": "light"
     },
     "output_type": "display_data"
    }
   ],
   "source": [
    "# what are scores for the features\n",
    "for i in range(len(fs.scores_)):\n",
    "\tprint('Feature %d: %f' % (i, fs.scores_[i]))\n",
    "# plot the scores\n",
    "plt.bar([i for i in range(len(fs.scores_))], fs.scores_)\n",
    "plt.show()"
   ]
  },
  {
   "cell_type": "markdown",
   "metadata": {},
   "source": [
    "### According to the graph last three features aren't that important but i tried by dropping them and it lowers the score, so eventually i included all the features"
   ]
  },
  {
   "cell_type": "markdown",
   "metadata": {},
   "source": [
    "# Linear Regression"
   ]
  },
  {
   "cell_type": "code",
   "execution_count": 184,
   "metadata": {},
   "outputs": [],
   "source": [
    "x=train.iloc[:,0:8]\n",
    "y=train.iloc[:,8]"
   ]
  },
  {
   "cell_type": "code",
   "execution_count": 185,
   "metadata": {},
   "outputs": [
    {
     "name": "stdout",
     "output_type": "stream",
     "text": [
      "0.6162149927312734\n"
     ]
    }
   ],
   "source": [
    "x_train,x_test,y_train,y_test=train_test_split(x,y,test_size=0.3,random_state=1)\n",
    "lr=LinearRegression()\n",
    "lr.fit(x_train,y_train)\n",
    "y_pred=lr.predict(x_test)\n",
    "result_lr=r2_score(y_test,y_pred)\n",
    "print(result_lr)"
   ]
  },
  {
   "cell_type": "code",
   "execution_count": 186,
   "metadata": {},
   "outputs": [],
   "source": [
    "submission = pd.DataFrame()\n",
    "submission['ID'] = test.ID"
   ]
  },
  {
   "cell_type": "code",
   "execution_count": 189,
   "metadata": {},
   "outputs": [],
   "source": [
    "feats = test.iloc[:,1:9]"
   ]
  },
  {
   "cell_type": "code",
   "execution_count": 190,
   "metadata": {},
   "outputs": [],
   "source": [
    "predictions = lr.predict(feats)"
   ]
  },
  {
   "cell_type": "code",
   "execution_count": 191,
   "metadata": {},
   "outputs": [],
   "source": [
    "submission[\"Radiation\"]=predictions"
   ]
  },
  {
   "cell_type": "code",
   "execution_count": 192,
   "metadata": {},
   "outputs": [
    {
     "data": {
      "text/html": [
       "<div>\n",
       "<style scoped>\n",
       "    .dataframe tbody tr th:only-of-type {\n",
       "        vertical-align: middle;\n",
       "    }\n",
       "\n",
       "    .dataframe tbody tr th {\n",
       "        vertical-align: top;\n",
       "    }\n",
       "\n",
       "    .dataframe thead th {\n",
       "        text-align: right;\n",
       "    }\n",
       "</style>\n",
       "<table border=\"1\" class=\"dataframe\">\n",
       "  <thead>\n",
       "    <tr style=\"text-align: right;\">\n",
       "      <th></th>\n",
       "      <th>ID</th>\n",
       "      <th>Radiation</th>\n",
       "    </tr>\n",
       "  </thead>\n",
       "  <tbody>\n",
       "    <tr>\n",
       "      <th>0</th>\n",
       "      <td>19613</td>\n",
       "      <td>-0.024263</td>\n",
       "    </tr>\n",
       "    <tr>\n",
       "      <th>1</th>\n",
       "      <td>19614</td>\n",
       "      <td>-0.027308</td>\n",
       "    </tr>\n",
       "    <tr>\n",
       "      <th>2</th>\n",
       "      <td>19615</td>\n",
       "      <td>-0.053574</td>\n",
       "    </tr>\n",
       "    <tr>\n",
       "      <th>3</th>\n",
       "      <td>19616</td>\n",
       "      <td>-0.117352</td>\n",
       "    </tr>\n",
       "    <tr>\n",
       "      <th>4</th>\n",
       "      <td>19617</td>\n",
       "      <td>-0.074479</td>\n",
       "    </tr>\n",
       "  </tbody>\n",
       "</table>\n",
       "</div>"
      ],
      "text/plain": [
       "      ID  Radiation\n",
       "0  19613  -0.024263\n",
       "1  19614  -0.027308\n",
       "2  19615  -0.053574\n",
       "3  19616  -0.117352\n",
       "4  19617  -0.074479"
      ]
     },
     "execution_count": 192,
     "metadata": {},
     "output_type": "execute_result"
    }
   ],
   "source": [
    "submission.head()"
   ]
  },
  {
   "cell_type": "markdown",
   "metadata": {},
   "source": [
    "# Standardized the solutions column here "
   ]
  },
  {
   "cell_type": "code",
   "execution_count": 209,
   "metadata": {},
   "outputs": [
    {
     "data": {
      "text/html": [
       "<div>\n",
       "<style scoped>\n",
       "    .dataframe tbody tr th:only-of-type {\n",
       "        vertical-align: middle;\n",
       "    }\n",
       "\n",
       "    .dataframe tbody tr th {\n",
       "        vertical-align: top;\n",
       "    }\n",
       "\n",
       "    .dataframe thead th {\n",
       "        text-align: right;\n",
       "    }\n",
       "</style>\n",
       "<table border=\"1\" class=\"dataframe\">\n",
       "  <thead>\n",
       "    <tr style=\"text-align: right;\">\n",
       "      <th></th>\n",
       "      <th>ID</th>\n",
       "      <th>Radiation</th>\n",
       "    </tr>\n",
       "  </thead>\n",
       "  <tbody>\n",
       "    <tr>\n",
       "      <th>13064</th>\n",
       "      <td>32677</td>\n",
       "      <td>-0.615786</td>\n",
       "    </tr>\n",
       "    <tr>\n",
       "      <th>13065</th>\n",
       "      <td>32678</td>\n",
       "      <td>-0.615821</td>\n",
       "    </tr>\n",
       "    <tr>\n",
       "      <th>13066</th>\n",
       "      <td>32679</td>\n",
       "      <td>-0.615821</td>\n",
       "    </tr>\n",
       "    <tr>\n",
       "      <th>13067</th>\n",
       "      <td>32680</td>\n",
       "      <td>-0.615751</td>\n",
       "    </tr>\n",
       "    <tr>\n",
       "      <th>13068</th>\n",
       "      <td>32681</td>\n",
       "      <td>-0.615856</td>\n",
       "    </tr>\n",
       "    <tr>\n",
       "      <th>13069</th>\n",
       "      <td>32682</td>\n",
       "      <td>-0.615717</td>\n",
       "    </tr>\n",
       "    <tr>\n",
       "      <th>13070</th>\n",
       "      <td>32683</td>\n",
       "      <td>-0.615891</td>\n",
       "    </tr>\n",
       "    <tr>\n",
       "      <th>13071</th>\n",
       "      <td>32684</td>\n",
       "      <td>-0.615786</td>\n",
       "    </tr>\n",
       "    <tr>\n",
       "      <th>13072</th>\n",
       "      <td>32685</td>\n",
       "      <td>-0.615682</td>\n",
       "    </tr>\n",
       "    <tr>\n",
       "      <th>13073</th>\n",
       "      <td>32686</td>\n",
       "      <td>-0.615786</td>\n",
       "    </tr>\n",
       "  </tbody>\n",
       "</table>\n",
       "</div>"
      ],
      "text/plain": [
       "          ID  Radiation\n",
       "13064  32677  -0.615786\n",
       "13065  32678  -0.615821\n",
       "13066  32679  -0.615821\n",
       "13067  32680  -0.615751\n",
       "13068  32681  -0.615856\n",
       "13069  32682  -0.615717\n",
       "13070  32683  -0.615891\n",
       "13071  32684  -0.615786\n",
       "13072  32685  -0.615682\n",
       "13073  32686  -0.615786"
      ]
     },
     "execution_count": 209,
     "metadata": {},
     "output_type": "execute_result"
    }
   ],
   "source": [
    "t_scaler= StandardScaler()\n",
    "sol[\"Radiation\"]=r_scaler.fit_transform(sol[[\"Radiation\"]])\n",
    "\n",
    "sol.tail(10)"
   ]
  },
  {
   "cell_type": "code",
   "execution_count": 193,
   "metadata": {},
   "outputs": [],
   "source": [
    "y1=sol[\"Radiation\"]\n",
    "y2=submission[\"Radiation\"]"
   ]
  },
  {
   "cell_type": "markdown",
   "metadata": {},
   "source": [
    "# Score"
   ]
  },
  {
   "cell_type": "code",
   "execution_count": 194,
   "metadata": {},
   "outputs": [
    {
     "name": "stdout",
     "output_type": "stream",
     "text": [
      "0.5940043740283003\n"
     ]
    }
   ],
   "source": [
    "print(r2_score(y1,y2))"
   ]
  },
  {
   "cell_type": "markdown",
   "metadata": {},
   "source": [
    "# Random forest regressor"
   ]
  },
  {
   "cell_type": "code",
   "execution_count": 195,
   "metadata": {},
   "outputs": [
    {
     "name": "stdout",
     "output_type": "stream",
     "text": [
      "0.894456661652268\n"
     ]
    }
   ],
   "source": [
    "from sklearn.ensemble import RandomForestRegressor \n",
    "yo=[1000]\n",
    "\n",
    "for i in yo:\n",
    "    regressor = RandomForestRegressor(n_estimators = i, random_state = 0) \n",
    "    regressor.fit(x_train, y_train)   \n",
    "    rf_pred = regressor.predict(x_test)\n",
    "    result_rf=r2_score(y_test,rf_pred)\n",
    "    print(result_rf)"
   ]
  },
  {
   "cell_type": "code",
   "execution_count": 196,
   "metadata": {},
   "outputs": [],
   "source": [
    "predictions = regressor.predict(feats)"
   ]
  },
  {
   "cell_type": "code",
   "execution_count": 197,
   "metadata": {},
   "outputs": [
    {
     "data": {
      "text/html": [
       "<div>\n",
       "<style scoped>\n",
       "    .dataframe tbody tr th:only-of-type {\n",
       "        vertical-align: middle;\n",
       "    }\n",
       "\n",
       "    .dataframe tbody tr th {\n",
       "        vertical-align: top;\n",
       "    }\n",
       "\n",
       "    .dataframe thead th {\n",
       "        text-align: right;\n",
       "    }\n",
       "</style>\n",
       "<table border=\"1\" class=\"dataframe\">\n",
       "  <thead>\n",
       "    <tr style=\"text-align: right;\">\n",
       "      <th></th>\n",
       "      <th>ID</th>\n",
       "      <th>Radiation</th>\n",
       "    </tr>\n",
       "  </thead>\n",
       "  <tbody>\n",
       "    <tr>\n",
       "      <th>0</th>\n",
       "      <td>19613</td>\n",
       "      <td>-0.677856</td>\n",
       "    </tr>\n",
       "    <tr>\n",
       "      <th>1</th>\n",
       "      <td>19614</td>\n",
       "      <td>-0.677856</td>\n",
       "    </tr>\n",
       "    <tr>\n",
       "      <th>2</th>\n",
       "      <td>19615</td>\n",
       "      <td>-0.677856</td>\n",
       "    </tr>\n",
       "    <tr>\n",
       "      <th>3</th>\n",
       "      <td>19616</td>\n",
       "      <td>-0.677856</td>\n",
       "    </tr>\n",
       "    <tr>\n",
       "      <th>4</th>\n",
       "      <td>19617</td>\n",
       "      <td>-0.677856</td>\n",
       "    </tr>\n",
       "  </tbody>\n",
       "</table>\n",
       "</div>"
      ],
      "text/plain": [
       "      ID  Radiation\n",
       "0  19613  -0.677856\n",
       "1  19614  -0.677856\n",
       "2  19615  -0.677856\n",
       "3  19616  -0.677856\n",
       "4  19617  -0.677856"
      ]
     },
     "execution_count": 197,
     "metadata": {},
     "output_type": "execute_result"
    }
   ],
   "source": [
    "submission[\"Radiation\"]=predictions\n",
    "submission.head(20)"
   ]
  },
  {
   "cell_type": "code",
   "execution_count": 198,
   "metadata": {},
   "outputs": [],
   "source": [
    "y1=sol[\"Radiation\"]\n",
    "y2=submission[\"Radiation\"]"
   ]
  },
  {
   "cell_type": "markdown",
   "metadata": {},
   "source": [
    "# Score"
   ]
  },
  {
   "cell_type": "code",
   "execution_count": 199,
   "metadata": {},
   "outputs": [
    {
     "name": "stdout",
     "output_type": "stream",
     "text": [
      "0.7979293582935192\n"
     ]
    }
   ],
   "source": [
    "print(r2_score(y1,y2))"
   ]
  },
  {
   "cell_type": "markdown",
   "metadata": {},
   "source": [
    "# AdaBoost Regressor"
   ]
  },
  {
   "cell_type": "code",
   "execution_count": 200,
   "metadata": {},
   "outputs": [],
   "source": [
    "from sklearn.ensemble import AdaBoostRegressor\n",
    "from sklearn.model_selection import GridSearchCV"
   ]
  },
  {
   "cell_type": "code",
   "execution_count": 201,
   "metadata": {},
   "outputs": [],
   "source": [
    "ada=AdaBoostRegressor(learning_rate= 0.001, n_estimators= 500, random_state=1)"
   ]
  },
  {
   "cell_type": "code",
   "execution_count": 202,
   "metadata": {},
   "outputs": [
    {
     "data": {
      "text/plain": [
       "0.7014523527066008"
      ]
     },
     "execution_count": 202,
     "metadata": {},
     "output_type": "execute_result"
    }
   ],
   "source": [
    "ada.fit(x_train,y_train)\n",
    "ab_pred=ada.predict(x_test)\n",
    "result_ab=r2_score(y_test,ab_pred)\n",
    "result_ab"
   ]
  },
  {
   "cell_type": "code",
   "execution_count": 204,
   "metadata": {},
   "outputs": [],
   "source": [
    "predictions = ada.predict(feats)"
   ]
  },
  {
   "cell_type": "code",
   "execution_count": 210,
   "metadata": {},
   "outputs": [
    {
     "data": {
      "text/html": [
       "<div>\n",
       "<style scoped>\n",
       "    .dataframe tbody tr th:only-of-type {\n",
       "        vertical-align: middle;\n",
       "    }\n",
       "\n",
       "    .dataframe tbody tr th {\n",
       "        vertical-align: top;\n",
       "    }\n",
       "\n",
       "    .dataframe thead th {\n",
       "        text-align: right;\n",
       "    }\n",
       "</style>\n",
       "<table border=\"1\" class=\"dataframe\">\n",
       "  <thead>\n",
       "    <tr style=\"text-align: right;\">\n",
       "      <th></th>\n",
       "      <th>ID</th>\n",
       "      <th>Radiation</th>\n",
       "    </tr>\n",
       "  </thead>\n",
       "  <tbody>\n",
       "    <tr>\n",
       "      <th>13069</th>\n",
       "      <td>32682</td>\n",
       "      <td>-0.671090</td>\n",
       "    </tr>\n",
       "    <tr>\n",
       "      <th>13070</th>\n",
       "      <td>32683</td>\n",
       "      <td>-0.671090</td>\n",
       "    </tr>\n",
       "    <tr>\n",
       "      <th>13071</th>\n",
       "      <td>32684</td>\n",
       "      <td>-0.671090</td>\n",
       "    </tr>\n",
       "    <tr>\n",
       "      <th>13072</th>\n",
       "      <td>32685</td>\n",
       "      <td>-0.671090</td>\n",
       "    </tr>\n",
       "    <tr>\n",
       "      <th>13073</th>\n",
       "      <td>32686</td>\n",
       "      <td>0.422608</td>\n",
       "    </tr>\n",
       "  </tbody>\n",
       "</table>\n",
       "</div>"
      ],
      "text/plain": [
       "          ID  Radiation\n",
       "13069  32682  -0.671090\n",
       "13070  32683  -0.671090\n",
       "13071  32684  -0.671090\n",
       "13072  32685  -0.671090\n",
       "13073  32686   0.422608"
      ]
     },
     "execution_count": 210,
     "metadata": {},
     "output_type": "execute_result"
    }
   ],
   "source": [
    "submission[\"Radiation\"]=predictions\n",
    "submission.tail()"
   ]
  },
  {
   "cell_type": "markdown",
   "metadata": {},
   "source": [
    "# Score"
   ]
  },
  {
   "cell_type": "code",
   "execution_count": 211,
   "metadata": {},
   "outputs": [
    {
     "name": "stdout",
     "output_type": "stream",
     "text": [
      "0.678353489467139\n"
     ]
    }
   ],
   "source": [
    "y1=sol[\"Radiation\"]\n",
    "y2=submission[\"Radiation\"]\n",
    "print(r2_score(y1,y2))"
   ]
  },
  {
   "cell_type": "markdown",
   "metadata": {},
   "source": [
    "# XGBoost Regressor"
   ]
  },
  {
   "cell_type": "code",
   "execution_count": 212,
   "metadata": {},
   "outputs": [],
   "source": [
    "import xgboost as xgb"
   ]
  },
  {
   "cell_type": "code",
   "execution_count": 213,
   "metadata": {},
   "outputs": [],
   "source": [
    "xg_reg = xgb.XGBRegressor(objective ='reg:linear', colsample_bytree = 0.3, learning_rate = 0.1,\n",
    "                max_depth = 3, alpha = 10, n_estimators = 1000)"
   ]
  },
  {
   "cell_type": "code",
   "execution_count": 214,
   "metadata": {},
   "outputs": [
    {
     "name": "stdout",
     "output_type": "stream",
     "text": [
      "[17:54:02] WARNING: C:/Users/Administrator/workspace/xgboost-win64_release_1.1.0/src/objective/regression_obj.cu:170: reg:linear is now deprecated in favor of reg:squarederror.\n",
      "[17:54:03] WARNING: C:/Users/Administrator/workspace/xgboost-win64_release_1.1.0/src/objective/regression_obj.cu:170: reg:linear is now deprecated in favor of reg:squarederror.\n"
     ]
    },
    {
     "data": {
      "text/plain": [
       "0.8709454015121116"
      ]
     },
     "execution_count": 214,
     "metadata": {},
     "output_type": "execute_result"
    }
   ],
   "source": [
    "xg_reg.fit(x_train,y_train)\n",
    "xgb_pred = xg_reg.predict(x_test)\n",
    "result_xgb=r2_score(y_test,xgb_pred)\n",
    "result_xgb"
   ]
  },
  {
   "cell_type": "code",
   "execution_count": 215,
   "metadata": {},
   "outputs": [
    {
     "data": {
      "text/html": [
       "<div>\n",
       "<style scoped>\n",
       "    .dataframe tbody tr th:only-of-type {\n",
       "        vertical-align: middle;\n",
       "    }\n",
       "\n",
       "    .dataframe tbody tr th {\n",
       "        vertical-align: top;\n",
       "    }\n",
       "\n",
       "    .dataframe thead th {\n",
       "        text-align: right;\n",
       "    }\n",
       "</style>\n",
       "<table border=\"1\" class=\"dataframe\">\n",
       "  <thead>\n",
       "    <tr style=\"text-align: right;\">\n",
       "      <th></th>\n",
       "      <th>ID</th>\n",
       "      <th>Radiation</th>\n",
       "    </tr>\n",
       "  </thead>\n",
       "  <tbody>\n",
       "    <tr>\n",
       "      <th>0</th>\n",
       "      <td>19613</td>\n",
       "      <td>-0.729682</td>\n",
       "    </tr>\n",
       "    <tr>\n",
       "      <th>1</th>\n",
       "      <td>19614</td>\n",
       "      <td>-0.709795</td>\n",
       "    </tr>\n",
       "    <tr>\n",
       "      <th>2</th>\n",
       "      <td>19615</td>\n",
       "      <td>-0.723068</td>\n",
       "    </tr>\n",
       "    <tr>\n",
       "      <th>3</th>\n",
       "      <td>19616</td>\n",
       "      <td>-0.707673</td>\n",
       "    </tr>\n",
       "    <tr>\n",
       "      <th>4</th>\n",
       "      <td>19617</td>\n",
       "      <td>-0.720232</td>\n",
       "    </tr>\n",
       "  </tbody>\n",
       "</table>\n",
       "</div>"
      ],
      "text/plain": [
       "      ID  Radiation\n",
       "0  19613  -0.729682\n",
       "1  19614  -0.709795\n",
       "2  19615  -0.723068\n",
       "3  19616  -0.707673\n",
       "4  19617  -0.720232"
      ]
     },
     "execution_count": 215,
     "metadata": {},
     "output_type": "execute_result"
    }
   ],
   "source": [
    "predictions = xg_reg.predict(feats)\n",
    "submission[\"Radiation\"]=predictions\n",
    "submission.head()"
   ]
  },
  {
   "cell_type": "markdown",
   "metadata": {},
   "source": [
    "# Final Score"
   ]
  },
  {
   "cell_type": "code",
   "execution_count": 216,
   "metadata": {},
   "outputs": [
    {
     "name": "stdout",
     "output_type": "stream",
     "text": [
      "0.809444045741862\n"
     ]
    }
   ],
   "source": [
    "y1=sol[\"Radiation\"]\n",
    "y2=submission[\"Radiation\"]\n",
    "print(r2_score(y1,y2))"
   ]
  },
  {
   "cell_type": "code",
   "execution_count": null,
   "metadata": {},
   "outputs": [],
   "source": []
  }
 ],
 "metadata": {
  "kernelspec": {
   "display_name": "Python 3",
   "language": "python",
   "name": "python3"
  },
  "language_info": {
   "codemirror_mode": {
    "name": "ipython",
    "version": 3
   },
   "file_extension": ".py",
   "mimetype": "text/x-python",
   "name": "python",
   "nbconvert_exporter": "python",
   "pygments_lexer": "ipython3",
   "version": "3.8.5"
  }
 },
 "nbformat": 4,
 "nbformat_minor": 4
}
